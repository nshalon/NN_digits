{
 "cells": [
  {
   "cell_type": "code",
   "execution_count": 2,
   "metadata": {
    "id": "wVUYkUOixhB9"
   },
   "outputs": [],
   "source": [
    "from sklearn.tree import DecisionTreeClassifier\n",
    "from scipy.stats import mode\n",
    "import pandas as pd\n",
    "import numpy as np\n",
    "import matplotlib.pyplot as plt\n",
    "import tensorflow as tf"
   ]
  },
  {
   "cell_type": "markdown",
   "metadata": {
    "id": "uUO2zD1ep2ag"
   },
   "source": [
    "## Neural Network\n",
    "\n",
    "The `neural_network` function creates a model that learns to classify digits.\n",
    "\n",
    "Inputs:\n",
    "* `X_train` is the training data\n",
    "* `y_train` are the training labels\n",
    "* `X_test` is the testing data\n",
    "* `y_test` are the testing labels\n",
    "\n",
    "Outputs: \n",
    "* `test_loss` is the loss after evaluating the testing dataset\n",
    "* `test_acc` is the accuracy after evaluating the testing dataset\n",
    "* `predictions` are the models predictions of the testing dataset\n"
   ]
  },
  {
   "cell_type": "code",
   "execution_count": 83,
   "metadata": {
    "id": "80zLYXHwp5ms"
   },
   "outputs": [],
   "source": [
    "def neural_network(x_train, y_train, x_test, y_test):\n",
    "\n",
    "    # Implement model\n",
    "    num_layers = 5\n",
    "    range_layers = 100\n",
    "    num_out = np.random.randint(low=0, high=range_layers, size=num_layers)\n",
    "    model = tf.keras.models.Sequential()\n",
    "    model.add(tf.keras.layers.Flatten())\n",
    "    for i in range(num_layers):\n",
    "        model.add(tf.keras.layers.Dense(units=num_out[i], activation=\"sigmoid\"))\n",
    "    model.add(tf.keras.layers.Dense(units=10, activation=\"softmax\"))\n",
    "    \n",
    "    # compile model, define optimizer\n",
    "    model.compile(optimizer='adam',\n",
    "                loss=tf.keras.losses.SparseCategoricalCrossentropy(from_logits=True),\n",
    "                metrics=['accuracy'])\n",
    "  \n",
    "    # Fit and evaluate\n",
    "    model.fit(x_train, y_train, batch_size=100, epochs=10)\n",
    "    \n",
    "    # Calculate predictions\n",
    "    test_loss, test_acc = model.evaluate(x_test, y_test)\n",
    "    predictions = model.predict(x_test)\n",
    "    return test_loss, test_acc, predictions"
   ]
  },
  {
   "cell_type": "markdown",
   "metadata": {
    "id": "EVvP0vCKqYsx"
   },
   "source": [
    "## Run and Plot"
   ]
  },
  {
   "cell_type": "code",
   "execution_count": 33,
   "metadata": {
    "id": "LEfN9w__p5c1"
   },
   "outputs": [],
   "source": [
    "# Other neural network code here:\n",
    "\n",
    "# Load data\n",
    "mnist = tf.keras.datasets.mnist\n",
    "(x_train, y_train), (x_test, y_test) = mnist.load_data()\n",
    "x_train_scale = scale_data(x_train)\n",
    "x_test_scale = scale_data(x_test)"
   ]
  },
  {
   "cell_type": "code",
   "execution_count": 84,
   "metadata": {},
   "outputs": [
    {
     "name": "stdout",
     "output_type": "stream",
     "text": [
      "Epoch 1/10\n",
      "600/600 [==============================] - 2s 3ms/step - loss: 2.2361 - accuracy: 0.1777\n",
      "Epoch 2/10\n",
      "600/600 [==============================] - 1s 2ms/step - loss: 2.2026 - accuracy: 0.2130\n",
      "Epoch 3/10\n",
      "600/600 [==============================] - 1s 2ms/step - loss: 2.1552 - accuracy: 0.2794\n",
      "Epoch 4/10\n",
      "600/600 [==============================] - 1s 2ms/step - loss: 2.0071 - accuracy: 0.4629\n",
      "Epoch 5/10\n",
      "600/600 [==============================] - 2s 3ms/step - loss: 1.9475 - accuracy: 0.5259\n",
      "Epoch 6/10\n",
      "600/600 [==============================] - 1s 2ms/step - loss: 1.9149 - accuracy: 0.5508\n",
      "Epoch 7/10\n",
      "600/600 [==============================] - 1s 2ms/step - loss: 1.9068 - accuracy: 0.5555\n",
      "Epoch 8/10\n",
      "600/600 [==============================] - 2s 4ms/step - loss: 1.9028 - accuracy: 0.5588\n",
      "Epoch 9/10\n",
      "600/600 [==============================] - 3s 4ms/step - loss: 1.9001 - accuracy: 0.5610\n",
      "Epoch 10/10\n",
      "600/600 [==============================] - 2s 4ms/step - loss: 1.8987 - accuracy: 0.5619\n",
      "313/313 [==============================] - 1s 2ms/step - loss: 1.8950 - accuracy: 0.5646\n"
     ]
    }
   ],
   "source": [
    "loss, acc, preds = neural_network(x_train_scale, y_train, x_test_scale, y_test);\n",
    "# relu, 5 hidden layers, batch size 100, epochs 10"
   ]
  },
  {
   "cell_type": "code",
   "execution_count": 38,
   "metadata": {},
   "outputs": [
    {
     "name": "stdout",
     "output_type": "stream",
     "text": [
      "Epoch 1/10\n",
      "600/600 [==============================] - 9s 15ms/step - loss: 2.3072 - accuracy: 0.1037\n",
      "Epoch 2/10\n",
      "600/600 [==============================] - 9s 14ms/step - loss: 2.3060 - accuracy: 0.1047\n",
      "Epoch 3/10\n",
      "600/600 [==============================] - 10s 16ms/step - loss: 2.3057 - accuracy: 0.1042\n",
      "Epoch 4/10\n",
      "600/600 [==============================] - 8s 14ms/step - loss: 2.3053 - accuracy: 0.1067\n",
      "Epoch 5/10\n",
      "600/600 [==============================] - 9s 15ms/step - loss: 2.3049 - accuracy: 0.1067\n",
      "Epoch 6/10\n",
      "600/600 [==============================] - 10s 17ms/step - loss: 2.3045 - accuracy: 0.1063\n",
      "Epoch 7/10\n",
      "600/600 [==============================] - 8s 14ms/step - loss: 2.3042 - accuracy: 0.1070\n",
      "Epoch 8/10\n",
      "600/600 [==============================] - 9s 14ms/step - loss: 2.3040 - accuracy: 0.1076\n",
      "Epoch 9/10\n",
      "600/600 [==============================] - 9s 15ms/step - loss: 2.3034 - accuracy: 0.1074\n",
      "Epoch 10/10\n",
      "600/600 [==============================] - 9s 15ms/step - loss: 2.3033 - accuracy: 0.1086\n",
      "313/313 [==============================] - 1s 3ms/step - loss: 2.3025 - accuracy: 0.0982\n"
     ]
    },
    {
     "data": {
      "text/plain": [
       "(2.3024981021881104, 0.0982000008225441)"
      ]
     },
     "execution_count": 38,
     "metadata": {},
     "output_type": "execute_result"
    }
   ],
   "source": [
    "outputs = neural_network(x_train_scale, y_train, x_test_scale, y_test);\n",
    "# sigmoid, 100 hidden layers, batch size 100, epochs 10\n",
    "outputs[:2]"
   ]
  },
  {
   "cell_type": "code",
   "execution_count": 40,
   "metadata": {},
   "outputs": [
    {
     "name": "stdout",
     "output_type": "stream",
     "text": [
      "Epoch 1/10\n",
      "600/600 [==============================] - 2s 3ms/step - loss: 2.3246 - accuracy: 0.1063\n",
      "Epoch 2/10\n",
      "600/600 [==============================] - 2s 3ms/step - loss: 2.2925 - accuracy: 0.1311\n",
      "Epoch 3/10\n",
      "600/600 [==============================] - 1s 2ms/step - loss: 2.0139 - accuracy: 0.1990\n",
      "Epoch 4/10\n",
      "600/600 [==============================] - 2s 3ms/step - loss: 1.9525 - accuracy: 0.2048\n",
      "Epoch 5/10\n",
      "600/600 [==============================] - 2s 3ms/step - loss: 1.9452 - accuracy: 0.2080\n",
      "Epoch 6/10\n",
      "600/600 [==============================] - 1s 2ms/step - loss: 1.9393 - accuracy: 0.2097\n",
      "Epoch 7/10\n",
      "600/600 [==============================] - 1s 2ms/step - loss: 1.9299 - accuracy: 0.2071\n",
      "Epoch 8/10\n",
      "600/600 [==============================] - 2s 3ms/step - loss: 1.9193 - accuracy: 0.2109\n",
      "Epoch 9/10\n",
      "600/600 [==============================] - 1s 2ms/step - loss: 1.8947 - accuracy: 0.2185\n",
      "Epoch 10/10\n",
      "600/600 [==============================] - 2s 3ms/step - loss: 1.7922 - accuracy: 0.2997\n",
      "313/313 [==============================] - 1s 2ms/step - loss: 1.6688 - accuracy: 0.3364\n"
     ]
    },
    {
     "data": {
      "text/plain": [
       "(1.6687687635421753, 0.33640000224113464)"
      ]
     },
     "execution_count": 40,
     "metadata": {},
     "output_type": "execute_result"
    }
   ],
   "source": [
    "outputs = neural_network(x_train_scale, y_train, x_test_scale, y_test);\n",
    "# sigmoid, 10 hidden layers, batch size 100, epochs 10, always dim 10 in hidden layers (rather than uni(0,100))\n",
    "outputs[:2]"
   ]
  },
  {
   "cell_type": "code",
   "execution_count": 42,
   "metadata": {},
   "outputs": [
    {
     "name": "stdout",
     "output_type": "stream",
     "text": [
      "Epoch 1/10\n",
      "600/600 [==============================] - 3s 5ms/step - loss: 2.3083 - accuracy: 0.1032\n",
      "Epoch 2/10\n",
      "600/600 [==============================] - 3s 5ms/step - loss: 2.0646 - accuracy: 0.1701\n",
      "Epoch 3/10\n",
      "600/600 [==============================] - 3s 5ms/step - loss: 1.8899 - accuracy: 0.2058\n",
      "Epoch 4/10\n",
      "600/600 [==============================] - 3s 5ms/step - loss: 1.5858 - accuracy: 0.3584\n",
      "Epoch 5/10\n",
      "600/600 [==============================] - 3s 5ms/step - loss: 1.0738 - accuracy: 0.5988\n",
      "Epoch 6/10\n",
      "600/600 [==============================] - 3s 5ms/step - loss: 0.7706 - accuracy: 0.7025\n",
      "Epoch 7/10\n",
      "600/600 [==============================] - 3s 5ms/step - loss: 0.6864 - accuracy: 0.7238\n",
      "Epoch 8/10\n",
      "600/600 [==============================] - 3s 5ms/step - loss: 0.6166 - accuracy: 0.7755\n",
      "Epoch 9/10\n",
      "600/600 [==============================] - 3s 5ms/step - loss: 0.4882 - accuracy: 0.8555\n",
      "Epoch 10/10\n",
      "600/600 [==============================] - 3s 5ms/step - loss: 0.3914 - accuracy: 0.9074\n",
      "313/313 [==============================] - 1s 2ms/step - loss: 0.3862 - accuracy: 0.9096\n"
     ]
    },
    {
     "data": {
      "text/plain": [
       "(0.3862403333187103, 0.909600019454956)"
      ]
     },
     "execution_count": 42,
     "metadata": {},
     "output_type": "execute_result"
    }
   ],
   "source": [
    "outputs = neural_network(x_train_scale, y_train, x_test_scale, y_test);\n",
    "# sigmoid, 10 hidden layers, batch size 100, epochs 10, always dim 100 in hidden layers (rather than uni(0,100))\n",
    "outputs[:2]"
   ]
  },
  {
   "cell_type": "code",
   "execution_count": 73,
   "metadata": {},
   "outputs": [
    {
     "name": "stdout",
     "output_type": "stream",
     "text": [
      "Epoch 1/10\n",
      "600/600 [==============================] - 3s 6ms/step - loss: 2.3019 - accuracy: 0.1095\n",
      "Epoch 2/10\n",
      "600/600 [==============================] - 3s 5ms/step - loss: 2.3017 - accuracy: 0.1098\n",
      "Epoch 3/10\n",
      "600/600 [==============================] - 3s 5ms/step - loss: 2.3017 - accuracy: 0.1109\n",
      "Epoch 4/10\n",
      "600/600 [==============================] - 4s 6ms/step - loss: 2.3017 - accuracy: 0.1108\n",
      "Epoch 5/10\n",
      "600/600 [==============================] - 3s 5ms/step - loss: 2.3016 - accuracy: 0.1113\n",
      "Epoch 6/10\n",
      "600/600 [==============================] - 4s 7ms/step - loss: 2.3015 - accuracy: 0.1113\n",
      "Epoch 7/10\n",
      "600/600 [==============================] - 4s 7ms/step - loss: 2.3014 - accuracy: 0.1124\n",
      "Epoch 8/10\n",
      "600/600 [==============================] - 4s 6ms/step - loss: 2.3014 - accuracy: 0.1124\n",
      "Epoch 9/10\n",
      "600/600 [==============================] - 4s 6ms/step - loss: 2.3014 - accuracy: 0.1124\n",
      "Epoch 10/10\n",
      "600/600 [==============================] - 4s 6ms/step - loss: 2.3014 - accuracy: 0.1124\n",
      "313/313 [==============================] - 1s 2ms/step - loss: 2.3011 - accuracy: 0.1135\n"
     ]
    }
   ],
   "source": [
    "loss, acc, preds = neural_network(x_train_scale, y_train, x_test_scale, y_test);\n",
    "# sigmoid, 10 hidden layers, batch size 100, epochs 10, always dim 100 in hidden layers (rather than uni(0,100))"
   ]
  },
  {
   "cell_type": "code",
   "execution_count": 96,
   "metadata": {},
   "outputs": [
    {
     "data": {
      "image/png": "[encoded data removed]",
      "text/plain": [
       "<Figure size 432x288 with 8 Axes>"
      ]
     },
     "metadata": {
      "needs_background": "light"
     },
     "output_type": "display_data"
    }
   ],
   "source": [
    "n = np.random.randint(low=0, high=10000, size=4)\n",
    "figure, ax = plt.subplots(nrows=4, ncols=2, constrained_layout=True)\n",
    "for fignum in range(4):\n",
    "    position1 = ax[fignum, 0]\n",
    "    position2 = ax[fignum, 1]\n",
    "    position1.imshow(x_test[n[fignum]])\n",
    "    position2.bar(range(10), preds[n[fignum]], tick_label=range(10))\n",
    "plt.show()"
   ]
  },
  {
   "cell_type": "code",
   "execution_count": 90,
   "metadata": {},
   "outputs": [
    {
     "data": {
      "image/png": "[encoded data removed]",
      "text/plain": [
       "<Figure size 432x288 with 25 Axes>"
      ]
     },
     "metadata": {
      "needs_background": "light"
     },
     "output_type": "display_data"
    }
   ],
   "source": [
    "x_train_sample = x_train[:25]\n",
    "figure, ax = plt.subplots(nrows=5, ncols=5, constrained_layout=True)\n",
    "for figure in range(len(x_train_sample)):\n",
    "    position = ax[figure // 5, figure % 5]\n",
    "    position.imshow(x_train_sample[figure])\n",
    "plt.show()"
   ]
  }
 ],
 "metadata": {
  "colab": {
   "collapsed_sections": [],
   "name": "hw5_code.ipynb",
   "provenance": []
  },
  "kernelspec": {
   "display_name": "Python 3",
   "language": "python",
   "name": "python3"
  },
  "language_info": {
   "codemirror_mode": {
    "name": "ipython",
    "version": 3
   },
   "file_extension": ".py",
   "mimetype": "text/x-python",
   "name": "python",
   "nbconvert_exporter": "python",
   "pygments_lexer": "ipython3",
   "version": "3.7.6"
  }
 },
 "nbformat": 4,
 "nbformat_minor": 1
}
